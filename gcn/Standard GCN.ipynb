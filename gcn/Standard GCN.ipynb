{
 "cells": [
  {
   "cell_type": "markdown",
   "metadata": {},
   "source": [
    "### Standard GCN\n",
    "As in Kipf et al. (2016)"
   ]
  },
  {
   "cell_type": "code",
   "execution_count": 364,
   "metadata": {},
   "outputs": [],
   "source": [
    "import sys\n",
    "import os\n",
    "import time\n",
    "import argparse\n",
    "import pdb\n",
    "\n",
    "import numpy as np\n",
    "import torch\n",
    "import torch.nn as nn\n",
    "import torch.optim as optim\n",
    "\n",
    "# Add higher directory to python modules path.\n",
    "sys.path.append(\"..\") \n",
    "from dataloader import load_cora\n",
    "from model import GCN"
   ]
  },
  {
   "cell_type": "code",
   "execution_count": 365,
   "metadata": {},
   "outputs": [],
   "source": [
    "class obj(object):\n",
    "    def __init__(self, d):\n",
    "        for a, b in d.items():\n",
    "            if isinstance(b, (list, tuple)):\n",
    "               setattr(self, a, [obj(x) if isinstance(x, dict) else x for x in b])\n",
    "            else:\n",
    "               setattr(self, a, obj(b) if isinstance(b, dict) else b)\n",
    "args = {\n",
    "    'gpu': 1,\n",
    "    'seed': None,\n",
    "    'epochs': 500,\n",
    "    'lr': 0.01,\n",
    "    'wd': 5e-4,\n",
    "    'layers': 2,\n",
    "    'h_size': 16,\n",
    "    'dropout': 0.5,\n",
    "    'val_every': -1,\n",
    "    'val_only': 1,\n",
    "    'checkpoint': 0,\n",
    "    'model': 'save/model-val-0.8233.pth',\n",
    "    'log_every': 50,\n",
    "    'prepro': '../data/cora/preprocessed.pth',\n",
    "    'test': 0,\n",
    "}\n",
    "args = obj(args)"
   ]
  },
  {
   "cell_type": "code",
   "execution_count": 366,
   "metadata": {},
   "outputs": [],
   "source": [
    "def dense_to_sparse(x):\n",
    "    indices = torch.nonzero(x).t()\n",
    "    values = x[indices[0], indices[1]] # modify this based on dimensionality\n",
    "    return torch.sparse.FloatTensor(indices, values, x.size())"
   ]
  },
  {
   "cell_type": "code",
   "execution_count": 367,
   "metadata": {},
   "outputs": [],
   "source": [
    "# Setup\n",
    "start = time.time()\n",
    "args.gpu = args.gpu and torch.cuda.is_available() and False\n",
    "if args.seed is not None:\n",
    "    np.random.seed(args.seed)\n",
    "    torch.manual_seed(args.seed)\n",
    "    if args.cuda:\n",
    "        torch.cuda.manual_seed(args.seed)\n",
    "\n",
    "# Data\n",
    "if args.prepro:\n",
    "    tmp = torch.load(args.prepro)\n",
    "    adj_i, adj_v, adj_s, feats, labels, idx_train, idx_val, idx_test = tmp\n",
    "    adj = torch.sparse.FloatTensor(adj_i, adj_v, adj_s)\n",
    "else:\n",
    "    adj, feats, labels, idx_train, idx_val, idx_test = load_cora()"
   ]
  },
  {
   "cell_type": "code",
   "execution_count": 368,
   "metadata": {},
   "outputs": [],
   "source": [
    "# Model\n",
    "model = GCN(num_layers=args.layers, \n",
    "            in_size=feats.shape[1],\n",
    "            h_size=args.h_size, \n",
    "            out_size=labels.max().item() + 1,\n",
    "            dropout=args.dropout)\n",
    "if args.model:\n",
    "    model.load_state_dict(torch.load(args.model))\n",
    "\n",
    "# Optimizer\n",
    "optimizer = optim.Adam(model.parameters(), lr=args.lr, weight_decay=args.wd)\n",
    "\n",
    "# GPU\n",
    "if args.gpu:\n",
    "    tmp = model, adj, feats, labels, idx_train, idx_val, idx_test\n",
    "    tmp = [x.cuda() for x in tmp]\n",
    "    model, adj, feats, labels, idx_train, idx_val, idx_test = tmp"
   ]
  },
  {
   "cell_type": "code",
   "execution_count": 369,
   "metadata": {},
   "outputs": [
    {
     "name": "stdout",
     "output_type": "stream",
     "text": [
      "tensor(0.8350)\n"
     ]
    }
   ],
   "source": [
    "import torch.nn.functional as F \n",
    "\n",
    "# Data for validation/plotting \n",
    "idx = idx_test #torch.cat((idx_val, idx_test))\n",
    "\n",
    "# Validation\n",
    "model.eval()\n",
    "output = model(feats, adj)\n",
    "y_hat, y = (output[idx], labels[idx]) # helper\n",
    "loss = F.cross_entropy(y_hat, y)\n",
    "preds = y_hat.max(1)[1].type_as(y)\n",
    "preds_eq = preds.eq(y)\n",
    "acc = preds_eq.float().sum() / len(y)\n",
    "print(acc)"
   ]
  },
  {
   "cell_type": "markdown",
   "metadata": {},
   "source": [
    "### Out-of-distribution nodes"
   ]
  },
  {
   "cell_type": "code",
   "execution_count": 385,
   "metadata": {
    "scrolled": false
   },
   "outputs": [
    {
     "name": "stdout",
     "output_type": "stream",
     "text": [
      "N = 0, M = 0 76.5726% 0.7395% 5.1937% 4.4274% 4.1639% 1.7721% 7.1308%\n",
      "N = 0, M = 1 70.6429% 1.4274% 6.4455% 5.5714% 5.3901% 2.2954% 8.2272%\n",
      "N = 0, M = 2 72.7287% 0.8991% 7.6879% 4.9473% 4.7004% 1.8096% 7.2269%\n",
      "N = 0, M = 3 74.4290% 0.9043% 5.9769% 5.3576% 4.6091% 1.9038% 6.8193%\n",
      "N = 0, M = 4 73.1551% 0.8928% 5.5551% 4.4327% 6.9225% 2.0811% 6.9606%\n",
      "N = 0, M = 5 69.6398% 1.0416% 5.8872% 4.7697% 5.2305% 3.4001% 10.0310%\n",
      "N = 0, M = 6 71.6601% 0.8215% 5.3034% 3.8787% 4.0205% 2.4140% 11.9017%\n",
      "N = 1, M = 0 1.6594% 78.2408% 2.7569% 5.6561% 4.8984% 5.0243% 1.7640%\n",
      "N = 1, M = 1 1.0862% 82.9628% 2.1483% 4.5343% 4.0766% 3.9051% 1.2867%\n",
      "N = 1, M = 2 1.4679% 79.0729% 3.1960% 5.5558% 4.8511% 4.3062% 1.5502%\n",
      "N = 1, M = 3 1.4440% 79.4284% 2.7122% 5.7547% 4.5590% 4.5894% 1.5123%\n",
      "N = 1, M = 4 1.4051% 78.4183% 2.5517% 4.6844% 6.3885% 4.9726% 1.5794%\n",
      "N = 1, M = 5 1.2974% 78.1030% 2.3662% 4.8179% 4.8892% 6.6892% 1.8372%\n",
      "N = 1, M = 6 1.5605% 77.4957% 2.6160% 4.9852% 4.8505% 6.0203% 2.4717%\n",
      "N = 2, M = 0 10.1696% 2.7337% 71.0409% 6.5952% 4.8072% 2.0084% 2.6449%\n",
      "N = 2, M = 1 8.4542% 4.0908% 70.6223% 7.0317% 5.1437% 2.1081% 2.5492%\n",
      "N = 2, M = 2 7.7004% 2.4216% 76.2982% 5.4975% 4.3529% 1.6187% 2.1107%\n",
      "N = 2, M = 3 9.0661% 2.9379% 71.8245% 6.9801% 4.9078% 1.9388% 2.3447%\n",
      "N = 2, M = 4 8.7654% 2.9043% 70.8986% 6.0759% 6.8889% 2.2120% 2.2548%\n",
      "N = 2, M = 5 8.4162% 3.1431% 70.2754% 6.2218% 5.4500% 3.2867% 3.2068%\n",
      "N = 2, M = 6 9.4790% 2.8637% 70.6126% 5.8958% 4.4004% 2.6474% 4.1011%\n",
      "N = 3, M = 0 20.8794% 8.3662% 11.8341% 44.7199% 7.0826% 5.0899% 2.0279%\n",
      "N = 3, M = 1 16.0849% 12.5034% 12.0190% 45.2913% 7.0325% 5.1540% 1.9149%\n",
      "N = 3, M = 2 17.6840% 8.9425% 15.6975% 43.7847% 7.3689% 4.6939% 1.8285%\n",
      "N = 3, M = 3 18.1418% 8.9337% 12.1332% 47.2987% 6.9237% 4.8304% 1.7386%\n",
      "N = 3, M = 4 19.1741% 8.9157% 12.5365% 41.4326% 10.6697% 5.4276% 1.8438%\n",
      "N = 3, M = 5 17.1805% 9.9735% 12.1568% 42.4047% 7.6242% 8.2265% 2.4338%\n",
      "N = 3, M = 6 20.3778% 9.3754% 12.4103% 40.7904% 6.8536% 6.8386% 3.3539%\n",
      "N = 4, M = 0 4.1875% 1.4439% 2.8461% 1.3142% 85.5102% 3.7944% 0.9037%\n",
      "N = 4, M = 1 3.2869% 2.1223% 2.8561% 1.2823% 85.5566% 4.0145% 0.8813%\n",
      "N = 4, M = 2 3.4571% 1.4668% 3.6092% 1.2379% 85.8748% 3.5648% 0.7894%\n",
      "N = 4, M = 3 3.8658% 1.5705% 3.0550% 1.4351% 85.4623% 3.7979% 0.8135%\n",
      "N = 4, M = 4 2.7905% 1.1123% 2.1776% 0.8560% 89.5329% 2.8923% 0.6384%\n",
      "N = 4, M = 5 3.1205% 1.6224% 2.7835% 1.1342% 84.5020% 5.7690% 1.0684%\n",
      "N = 4, M = 6 3.7651% 1.5682% 2.8087% 1.1105% 84.1243% 5.1694% 1.4538%\n",
      "N = 5, M = 0 0.5271% 0.9154% 0.5106% 0.4375% 1.1662% 91.5420% 4.9012%\n",
      "N = 5, M = 1 0.4004% 1.2250% 0.4832% 0.4069% 1.1604% 91.7586% 4.5655%\n",
      "N = 5, M = 2 0.4679% 0.9729% 0.6815% 0.4277% 1.2728% 91.3772% 4.8000%\n",
      "N = 5, M = 3 0.4895% 0.9960% 0.5381% 0.4720% 1.2001% 91.8359% 4.4684%\n",
      "N = 5, M = 4 0.4318% 0.9032% 0.4887% 0.3611% 1.5546% 91.8628% 4.3979%\n",
      "N = 5, M = 5 0.2900% 0.7280% 0.3590% 0.2696% 0.8816% 93.5670% 3.9047%\n",
      "N = 5, M = 6 0.3935% 0.7863% 0.4244% 0.2976% 0.9442% 91.3843% 5.7698%\n",
      "N = 6, M = 0 4.7434% 0.5276% 0.9678% 0.3081% 0.5507% 4.1927% 88.7096%\n",
      "N = 6, M = 1 4.0711% 0.7631% 1.0109% 0.3359% 0.6403% 4.5633% 88.6154%\n",
      "N = 6, M = 2 4.5167% 0.6046% 1.3346% 0.3442% 0.6050% 4.3721% 88.2228%\n",
      "N = 6, M = 3 4.7364% 0.6394% 1.1298% 0.3699% 0.6154% 4.5877% 87.9214%\n",
      "N = 6, M = 4 4.3336% 0.6175% 0.9804% 0.2949% 0.8645% 5.1337% 87.7754%\n",
      "N = 6, M = 5 3.5322% 0.5352% 0.8680% 0.2585% 0.5805% 5.6672% 88.5583%\n",
      "N = 6, M = 6 3.3431% 0.3996% 0.7020% 0.2011% 0.4054% 3.7149% 91.2339%\n"
     ]
    }
   ],
   "source": [
    "# Loop over classes\n",
    "for n in range(7): # neighbor class\n",
    "    for m in range(7): # center node class\n",
    "        \n",
    "        # Create connections to nodes\n",
    "        adj_vec =  torch.eye(adj.shape[0])[(labels == n).nonzero()[0:5]].sum(dim=0).squeeze() # 5 from class 5\n",
    "        adj_vec = torch.cat((adj_vec, torch.ones(1)))\n",
    "        adj_vec = (adj_vec / adj_vec.sum()).reshape(-1,1)\n",
    "\n",
    "        # Modify adjacency matrix\n",
    "        adj_ood = adj.to_dense()\n",
    "        adj_ood = torch.cat((torch.cat((adj_ood, adj_vec[:-1]), dim=1), adj_vec.t()), dim=0)\n",
    "        adj_ood = dense_to_sparse(adj_ood)\n",
    "\n",
    "        # Features\n",
    "        feats_ood = torch.cat((feats, feats[labels == m].mean(dim=0, keepdim=True)), dim=0)\n",
    "        \n",
    "        # Print prediction\n",
    "        probs = torch.softmax(model(feats_ood, adj_ood), dim=1)[-1]\n",
    "        l = list(probs.detach().numpy())\n",
    "        l = ' '.join(['{:.4f}%'.format(x * 100) for x in l])\n",
    "        print('N = {}, M = {}'.format(n, m), l)"
   ]
  },
  {
   "cell_type": "code",
   "execution_count": null,
   "metadata": {},
   "outputs": [],
   "source": []
  },
  {
   "cell_type": "code",
   "execution_count": null,
   "metadata": {},
   "outputs": [],
   "source": []
  },
  {
   "cell_type": "code",
   "execution_count": null,
   "metadata": {},
   "outputs": [],
   "source": []
  },
  {
   "cell_type": "code",
   "execution_count": null,
   "metadata": {},
   "outputs": [],
   "source": []
  },
  {
   "cell_type": "code",
   "execution_count": null,
   "metadata": {},
   "outputs": [],
   "source": []
  },
  {
   "cell_type": "code",
   "execution_count": 359,
   "metadata": {},
   "outputs": [
    {
     "data": {
      "text/plain": [
       "tensor([0.0189, 0.6358, 0.0405, 0.0607, 0.0672, 0.1472, 0.0297],\n",
       "       grad_fn=<SelectBackward>)"
      ]
     },
     "execution_count": 359,
     "metadata": {},
     "output_type": "execute_result"
    }
   ],
   "source": [
    "probs"
   ]
  },
  {
   "cell_type": "code",
   "execution_count": 333,
   "metadata": {},
   "outputs": [
    {
     "data": {
      "text/plain": [
       "torch.Size([6, 1433])"
      ]
     },
     "execution_count": 333,
     "metadata": {},
     "output_type": "execute_result"
    }
   ],
   "source": [
    "synthetic_feats.shape"
   ]
  },
  {
   "cell_type": "markdown",
   "metadata": {},
   "source": [
    "### Exploring\n",
    "We explore the degree of uncertainty given to the incorrectly labeled data points. "
   ]
  },
  {
   "cell_type": "code",
   "execution_count": 129,
   "metadata": {},
   "outputs": [],
   "source": [
    "import matplotlib.pyplot as plt\n",
    "plt.rcParams['figure.figsize'] = (8, 5)"
   ]
  },
  {
   "cell_type": "code",
   "execution_count": 130,
   "metadata": {},
   "outputs": [],
   "source": [
    "# Extract incorrect labels\n",
    "y_hat_wrong = torch.nn.functional.softmax(output[idx][preds_eq == 0], dim=1)\n",
    "y_hat_right = torch.nn.functional.softmax(output[idx][preds_eq == 1], dim=1)\n",
    "# y_wrong = labels[idx][preds_eq == 0]\n",
    "#y_wrong_onehot = torch.eye(7)[labels[idx][preds_eq == 0]]"
   ]
  },
  {
   "cell_type": "code",
   "execution_count": 131,
   "metadata": {
    "scrolled": true
   },
   "outputs": [],
   "source": [
    "# # Some example data points\n",
    "# print('--- Example 53')\n",
    "# print('Prediction: ', y_hat_wrong[53].data.numpy())\n",
    "# print('Label: ', y_wrong[53].item())\n",
    "# print()\n",
    "# print('--- Example 33')\n",
    "# print('Prediction: ', y_hat_wrong[33].data.numpy())\n",
    "# print('Label: ', y_wrong[33].item())"
   ]
  },
  {
   "cell_type": "code",
   "execution_count": 142,
   "metadata": {},
   "outputs": [
    {
     "data": {
      "image/png": "[encoded data removed]",
      "text/plain": [
       "<Figure size 576x360 with 1 Axes>"
      ]
     },
     "metadata": {
      "needs_background": "light"
     },
     "output_type": "display_data"
    }
   ],
   "source": [
    "# The amount we are wrong for each example: \n",
    "# max predicted (wrong) class probability - the correct class probability\n",
    "# amt_wrong = y_hat_wrong.max(dim=1)[0] - (y_wrong_onehot * y_hat_wrong).sum(dim=1)\n",
    "\n",
    "entropy_wrong = -(y_hat_wrong * torch.log(y_hat_wrong)).sum(dim=1)\n",
    "entropy_right = -(y_hat_right * torch.log(y_hat_right)).sum(dim=1)\n",
    "plt.hist(entropy_right.detach().cpu().numpy(), bins=20, alpha=0.5)\n",
    "plt.hist(entropy_wrong.detach().cpu().numpy(), bins=20, alpha=0.5)\n",
    "plt.xlim(0.0,2.0)\n",
    "plt.title('Entropy (blue = correct predictions, orange = incorrect predictions)')\n",
    "plt.show()\n",
    "# plt.hist(amt_wrong.detach().cpu().numpy(), bins=20)\n"
   ]
  },
  {
   "cell_type": "code",
   "execution_count": 280,
   "metadata": {},
   "outputs": [],
   "source": [
    "# # Create connections to nodes\n",
    "# adj_vec =  torch.eye(adj.shape[0])[(labels == c).nonzero()[0:5]].sum(dim=0).squeeze() # 5 from class 5\n",
    "# adj_vec += torch.eye(adj.shape[0])[(labels == k).nonzero()[0:1]].sum(dim=0).squeeze() # 5 from class 5\n",
    "# adj_vec = torch.cat((adj_vec, torch.ones(1)))\n",
    "# adj_vec = (adj_vec / adj_vec.sum()).reshape(-1,1)\n",
    "\n",
    "# # Modify adjacency matrix\n",
    "# adj_ood = adj.to_dense()\n",
    "# adj_ood = torch.cat((torch.cat((adj_ood, adj_vec[:-1]), dim=1), adj_vec.t()), dim=0)\n",
    "# adj_ood = dense_to_sparse(adj_ood)len(idx_test)"
   ]
  },
  {
   "cell_type": "code",
   "execution_count": 360,
   "metadata": {},
   "outputs": [],
   "source": [
    "# # Synthetic\n",
    "# synthetic = [[1,1,1,1,1,1],\n",
    "#              [1,1,0,0,0,0],\n",
    "#              [1,0,1,0,0,0],\n",
    "#              [1,0,0,1,0,0],\n",
    "#              [1,0,0,0,1,0],\n",
    "#              [1,0,0,0,0,1],]\n",
    "# synthetic = torch.FloatTensor(synthetic)\n",
    "# synthetic = synthetic / synthetic.sum(dim=1, keepdim=True)\n",
    "# synthetic = dense_to_sparse(synthetic)\n",
    "\n",
    "# # Modify features\n",
    "# neighbor_feats  = feats[labels == n].mean(dim=0, keepdim=True)\n",
    "# node_feats      = feats[labels == m].mean(dim=0, keepdim=True)\n",
    "# synthetic_feats = [node_feats] + [neighbor_feats for _ in range(5)]\n",
    "# synthetic_feats = torch.cat(synthetic_feats, dim=0)\n"
   ]
  },
  {
   "cell_type": "code",
   "execution_count": null,
   "metadata": {},
   "outputs": [],
   "source": []
  }
 ],
 "metadata": {
  "kernelspec": {
   "display_name": "Python 3",
   "language": "python",
   "name": "python3"
  },
  "language_info": {
   "codemirror_mode": {
    "name": "ipython",
    "version": 3
   },
   "file_extension": ".py",
   "mimetype": "text/x-python",
   "name": "python",
   "nbconvert_exporter": "python",
   "pygments_lexer": "ipython3",
   "version": "3.6.6"
  }
 },
 "nbformat": 4,
 "nbformat_minor": 2
}
