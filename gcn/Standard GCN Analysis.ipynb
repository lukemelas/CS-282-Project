{
 "cells": [
  {
   "cell_type": "markdown",
   "metadata": {},
   "source": [
    "### Standard GCN\n",
    "As in Kipf et al. (2016)"
   ]
  },
  {
   "cell_type": "code",
   "execution_count": 23,
   "metadata": {},
   "outputs": [],
   "source": [
    "import sys\n",
    "import os\n",
    "import time\n",
    "import argparse\n",
    "import pdb\n",
    "\n",
    "import numpy as np\n",
    "import torch\n",
    "import torch.nn as nn\n",
    "import torch.optim as optim\n",
    "\n",
    "# Add higher directory to python modules path.\n",
    "sys.path.append(\"..\") \n",
    "from dataloader import load_cora\n",
    "from model import GCN"
   ]
  },
  {
   "cell_type": "code",
   "execution_count": 24,
   "metadata": {},
   "outputs": [],
   "source": [
    "class obj(object):\n",
    "    def __init__(self, d):\n",
    "        for a, b in d.items():\n",
    "            if isinstance(b, (list, tuple)):\n",
    "               setattr(self, a, [obj(x) if isinstance(x, dict) else x for x in b])\n",
    "            else:\n",
    "               setattr(self, a, obj(b) if isinstance(b, dict) else b)\n",
    "args = {\n",
    "    'gpu': 1,\n",
    "    'seed': None,\n",
    "    'epochs': 500,\n",
    "    'lr': 0.01,\n",
    "    'wd': 5e-4,\n",
    "    'layers': 2,\n",
    "    'h_size': 16,\n",
    "    'dropout': 0.5,\n",
    "    'val_every': -1,\n",
    "    'val_only': 1,\n",
    "    'checkpoint': 0,\n",
    "    'model': 'save/model-val-0.8233.pth',\n",
    "    'log_every': 50,\n",
    "    'prepro': '../data/cora/preprocessed.pth',\n",
    "    'test': 0,\n",
    "}\n",
    "args = obj(args)"
   ]
  },
  {
   "cell_type": "code",
   "execution_count": 25,
   "metadata": {},
   "outputs": [],
   "source": [
    "def dense_to_sparse(x):\n",
    "    indices = torch.nonzero(x).t()\n",
    "    values = x[indices[0], indices[1]] # modify this based on dimensionality\n",
    "    return torch.sparse.FloatTensor(indices, values, x.size())"
   ]
  },
  {
   "cell_type": "code",
   "execution_count": 26,
   "metadata": {},
   "outputs": [],
   "source": [
    "# Setup\n",
    "start = time.time()\n",
    "args.gpu = args.gpu and torch.cuda.is_available() and False\n",
    "if args.seed is not None:\n",
    "    np.random.seed(args.seed)\n",
    "    torch.manual_seed(args.seed)\n",
    "    if args.cuda:\n",
    "        torch.cuda.manual_seed(args.seed)\n",
    "\n",
    "# Data\n",
    "if args.prepro:\n",
    "    tmp = torch.load(args.prepro)\n",
    "    adj_i, adj_v, adj_s, feats, labels, idx_train, idx_val, idx_test = tmp\n",
    "    adj = torch.sparse.FloatTensor(adj_i, adj_v, adj_s)\n",
    "else:\n",
    "    adj, feats, labels, idx_train, idx_val, idx_test = load_cora()"
   ]
  },
  {
   "cell_type": "code",
   "execution_count": 45,
   "metadata": {},
   "outputs": [],
   "source": [
    "# Model\n",
    "model = GCN(num_layers=args.layers, \n",
    "            in_size=feats.shape[1],\n",
    "            h_size=args.h_size, \n",
    "            out_size=labels.max().item() + 1,\n",
    "            dropout=0.4,\n",
    "            mc_dropout=True)\n",
    "if args.model:\n",
    "    model.load_state_dict(torch.load(args.model))\n",
    "\n",
    "# Optimizer\n",
    "optimizer = optim.Adam(model.parameters(), lr=args.lr, weight_decay=args.wd)\n",
    "\n",
    "# GPU\n",
    "if args.gpu:\n",
    "    tmp = model, adj, feats, labels, idx_train, idx_val, idx_test\n",
    "    tmp = [x.cuda() for x in tmp]\n",
    "    model, adj, feats, labels, idx_train, idx_val, idx_test = tmp"
   ]
  },
  {
   "cell_type": "code",
   "execution_count": 46,
   "metadata": {},
   "outputs": [
    {
     "name": "stdout",
     "output_type": "stream",
     "text": [
      "Epoch     1 \t\t| \tTrain loss: 0.3888 \tTrain acc: 0.9643\tTime: 0.02\n",
      "Epoch    51 \t\t| \tTrain loss: 0.2384 \tTrain acc: 0.9786\tTime: 0.02\n",
      "Epoch   101 \t\t| \tTrain loss: 0.1846 \tTrain acc: 0.9929\tTime: 0.01\n",
      "Epoch   151 \t\t| \tTrain loss: 0.1580 \tTrain acc: 0.9929\tTime: 0.01\n",
      "Epoch   201 \t\t| \tTrain loss: 0.1448 \tTrain acc: 1.0000\tTime: 0.01\n",
      "Epoch   251 \t\t| \tTrain loss: 0.1380 \tTrain acc: 1.0000\tTime: 0.01\n",
      "Epoch   301 \t\t| \tTrain loss: 0.1344 \tTrain acc: 1.0000\tTime: 0.01\n",
      "Epoch   351 \t\t| \tTrain loss: 0.1324 \tTrain acc: 1.0000\tTime: 0.01\n",
      "Epoch   401 \t\t| \tTrain loss: 0.1312 \tTrain acc: 1.0000\tTime: 0.01\n",
      "Epoch   451 \t\t| \tTrain loss: 0.1306 \tTrain acc: 1.0000\tTime: 0.01\n",
      "Val acc: \t0.7033\t| \tValid loss: 1.0236\n"
     ]
    },
    {
     "data": {
      "text/plain": [
       "(tensor(1.0236, grad_fn=<NllLossBackward>), tensor(0.7033))"
      ]
     },
     "execution_count": 46,
     "metadata": {},
     "output_type": "execute_result"
    }
   ],
   "source": [
    "from train import train\n",
    "\n",
    "train(model, optimizer, adj, feats, labels, idx_train, idx_val, args)"
   ]
  },
  {
   "cell_type": "code",
   "execution_count": 29,
   "metadata": {},
   "outputs": [
    {
     "name": "stdout",
     "output_type": "stream",
     "text": [
      "tensor(0.7780)\n"
     ]
    }
   ],
   "source": [
    "import torch.nn.functional as F \n",
    "\n",
    "# Data for validation/plotting \n",
    "idx = idx_test #torch.cat((idx_val, idx_test))\n",
    "\n",
    "# Validation\n",
    "model.eval()\n",
    "output = model(feats, adj)\n",
    "y_hat, y = (output[idx], labels[idx]) # helper\n",
    "loss = F.cross_entropy(y_hat, y)\n",
    "preds = y_hat.max(1)[1].type_as(y)\n",
    "preds_eq = preds.eq(y)\n",
    "acc = preds_eq.float().sum() / len(y)\n",
    "print(acc)"
   ]
  },
  {
   "cell_type": "markdown",
   "metadata": {},
   "source": [
    "#### Confidence"
   ]
  },
  {
   "cell_type": "code",
   "execution_count": 20,
   "metadata": {},
   "outputs": [],
   "source": [
    "import matplotlib.pyplot as plt"
   ]
  },
  {
   "cell_type": "code",
   "execution_count": 21,
   "metadata": {},
   "outputs": [],
   "source": [
    "model = GCN(num_layers=2, in_size=feats.shape[1], h_size=16, out_size=labels.max().item() + 1, dropout=0.0)\n",
    "model.load_state_dict(torch.load('save/model-val-0.8233.pth')) # dropout: 'checkpoint/model-val-0.8033.pth'"
   ]
  },
  {
   "cell_type": "code",
   "execution_count": 42,
   "metadata": {},
   "outputs": [
    {
     "name": "stdout",
     "output_type": "stream",
     "text": [
      "Loss:  1.5806583166122437\n",
      "Acc:  0.550000011920929\n"
     ]
    }
   ],
   "source": [
    "import torch.nn.functional as F \n",
    "# Data for validation/plotting \n",
    "idx = idx_test\n",
    "# Validation\n",
    "model.eval()\n",
    "output = model(feats, adj)\n",
    "y_hat, y = (output[idx], labels[idx]) # helper\n",
    "loss = F.cross_entropy(y_hat, y)\n",
    "preds = y_hat.max(1)[1].type_as(y)\n",
    "preds_eq = preds.eq(y)\n",
    "acc = preds_eq.float().sum() / len(y)\n",
    "print('Loss: ', loss.item())\n",
    "print('Acc: ', acc.item())"
   ]
  },
  {
   "cell_type": "code",
   "execution_count": 43,
   "metadata": {},
   "outputs": [],
   "source": [
    "probs = torch.softmax(y_hat, dim=1)\n",
    "correct = probs.reshape(-1)[(probs * torch.eye(7)[labels[idx]]).reshape(-1).nonzero()]\n",
    "incorrect = probs.reshape(-1)[(probs * (1-torch.eye(7)[labels[idx]])).reshape(-1).nonzero()]\n",
    "conf_max = probs.max(1)[0]\n",
    "# correct = conf_max[probs.max(1)[1] == labels[idx]]\n",
    "# incorrect = conf_max[probs.max(1)[1] != labels[idx]]\n",
    "\n",
    "# Set up histogram\n",
    "buckets = 20\n",
    "bucket_ranges = np.arange(buckets + 1) / buckets\n",
    "\n",
    "# Histogram\n",
    "hist_correct = np.zeros(buckets)\n",
    "hist_total = np.zeros(buckets)\n",
    "for j in range(buckets):\n",
    "    for conf in correct:\n",
    "        if bucket_ranges[j] < conf.detach() < bucket_ranges[j+1]:\n",
    "            hist_correct[j] += 1\n",
    "            hist_total[j] += 1\n",
    "    for conf in incorrect:\n",
    "        if bucket_ranges[j] < conf.detach() < bucket_ranges[j+1]:\n",
    "            hist_total[j] += 1\n",
    "            \n",
    "ratio = np.nan_to_num(hist_correct/hist_total, 0)"
   ]
  },
  {
   "cell_type": "code",
   "execution_count": 44,
   "metadata": {},
   "outputs": [
    {
     "name": "stdout",
     "output_type": "stream",
     "text": [
      "0.04510599909788002 0.025\n",
      "0.012735714285714284\n",
      "0.11904761904761904 0.07500000000000001\n",
      "0.016435714285714283\n",
      "0.11486486486486487 0.125\n",
      "0.01686428571428571\n",
      "0.19298245614035087 0.17500000000000002\n",
      "0.017449999999999993\n",
      "0.17297297297297298 0.225\n",
      "0.018824999999999995\n",
      "0.20588235294117646 0.275\n",
      "0.020167857142857137\n",
      "0.21739130434782608 0.32500000000000007\n",
      "0.021582142857142852\n",
      "0.30303030303030304 0.37500000000000006\n",
      "0.022599999999999995\n",
      "0.323943661971831 0.42500000000000004\n",
      "0.023624999999999997\n",
      "0.36470588235294116 0.47500000000000003\n",
      "0.024964285714285713\n",
      "0.38372093023255816 0.525\n",
      "0.026699999999999998\n",
      "0.40425531914893614 0.5750000000000001\n",
      "0.02784642857142857\n",
      "0.5 0.6250000000000001\n",
      "0.028917857142857144\n",
      "0.4339622641509434 0.675\n",
      "0.030742857142857145\n",
      "0.6029411764705882 0.7250000000000001\n",
      "0.03192857142857143\n",
      "0.589041095890411 0.775\n",
      "0.033867857142857144\n",
      "0.5740740740740741 0.8250000000000001\n",
      "0.03580357142857143\n",
      "0.7638888888888888 0.8750000000000001\n",
      "0.036946428571428575\n",
      "0.7475728155339806 0.925\n",
      "0.03955714285714286\n",
      "0.8 0.9750000000000001\n",
      "0.043807142857142864\n"
     ]
    }
   ],
   "source": [
    "ece = 0 \n",
    "for idx, cor in enumerate(hist_correct):\n",
    "    print(cor / hist_total[idx],(idx * 0.05 + 0.025))\n",
    "    ece += hist_total[idx] / sum(hist_total) * np.abs(cor / hist_total[idx] - (idx * 0.05 + 0.025))\n",
    "    print(ece)"
   ]
  },
  {
   "cell_type": "code",
   "execution_count": 33,
   "metadata": {},
   "outputs": [
    {
     "name": "stdout",
     "output_type": "stream",
     "text": [
      "Average confidence:  0.7033627033233643\n"
     ]
    },
    {
     "data": {
      "image/png": "[encoded data removed]",
      "text/plain": [
       "<Figure size 432x288 with 1 Axes>"
      ]
     },
     "metadata": {
      "needs_background": "light"
     },
     "output_type": "display_data"
    }
   ],
   "source": [
    "print('Average confidence: ', conf_max.mean().item())\n",
    "plt.bar(0.05+np.arange(buckets) / buckets, ratio, width=0.045, alpha=0.7)\n",
    "plt.bar(0.05+np.arange(buckets) / buckets, np.arange(1,1+buckets) / buckets, width=0.045, alpha=0.9)\n",
    "plt.legend(['Empirical', 'Desired'])\n",
    "plt.axis([0,1.0,None,None])\n",
    "plt.show()"
   ]
  },
  {
   "cell_type": "code",
   "execution_count": 318,
   "metadata": {},
   "outputs": [
    {
     "data": {
      "image/png": "[encoded data removed]",
      "text/plain": [
       "<Figure size 432x288 with 1 Axes>"
      ]
     },
     "metadata": {
      "needs_background": "light"
     },
     "output_type": "display_data"
    }
   ],
   "source": [
    "plt.hist((probs.max(1)[0]).detach().numpy(), width=0.07)\n",
    "plt.axis([0,1.0,None,None])\n",
    "plt.show()"
   ]
  },
  {
   "cell_type": "code",
   "execution_count": 58,
   "metadata": {},
   "outputs": [
    {
     "data": {
      "image/png": "[encoded data removed]",
      "text/plain": [
       "<Figure size 432x288 with 1 Axes>"
      ]
     },
     "metadata": {
      "needs_background": "light"
     },
     "output_type": "display_data"
    }
   ],
   "source": [
    "import matplotlib.pyplot as plt\n",
    "plt.hist(conf_max)\n",
    "plt.axis([0,1.0,None,None])\n",
    "plt.show()"
   ]
  },
  {
   "cell_type": "markdown",
   "metadata": {},
   "source": [
    "### Out-of-distribution nodes"
   ]
  },
  {
   "cell_type": "code",
   "execution_count": 34,
   "metadata": {
    "scrolled": false
   },
   "outputs": [
    {
     "name": "stdout",
     "output_type": "stream",
     "text": [
      "1 0.6645285140494911 0.2104721760415301 0.12499929044623764\n"
     ]
    }
   ],
   "source": [
    "# Loop over classes\n",
    "total_neighbors = 0\n",
    "total_features = 0\n",
    "total_other = 0\n",
    "total = 0\n",
    "for n in range(7): # neighbor class\n",
    "    for m in range(7): # center node class\n",
    "\n",
    "        # Create connections to nodes\n",
    "        adj_vec =  torch.eye(adj.shape[0])[(labels == n).nonzero()[4:5]].sum(dim=0).squeeze() # 5 from class 5\n",
    "        adj_vec = torch.cat((adj_vec, torch.ones(1)))\n",
    "        adj_vec = (adj_vec / adj_vec.sum()).reshape(-1,1)\n",
    "\n",
    "        # Modify adjacency matrix\n",
    "        adj_ood = adj.to_dense()\n",
    "        adj_ood = torch.cat((torch.cat((adj_ood, adj_vec[:-1]), dim=1), adj_vec.t()), dim=0)\n",
    "        adj_ood = dense_to_sparse(adj_ood)\n",
    "\n",
    "        # Features\n",
    "        feats_ood = torch.cat((feats, feats[labels == m].mean(dim=0, keepdim=True)), dim=0)\n",
    "\n",
    "        # Print prediction\n",
    "        probs = torch.softmax(model(feats_ood, adj_ood), dim=1)[-1]\n",
    "\n",
    "        total_neighbors += probs[n].item()\n",
    "        total_features  += probs[m].item()\n",
    "        total_other += probs.sum().item() - probs[n].item() - probs[m].item()\n",
    "        total += 1\n",
    "\n",
    "\n",
    "        l = list(probs.detach().numpy())\n",
    "        l = ' '.join(['{:.4f}%'.format(x * 100) for x in l])\n",
    "        # print('N = {}, M = {}'.format(n, m), l)\n",
    "\n",
    "print(i, total_neighbors / total, total_features / total, total_other / total)"
   ]
  },
  {
   "cell_type": "code",
   "execution_count": 30,
   "metadata": {},
   "outputs": [
    {
     "data": {
      "text/plain": [
       "(tensor(0.6505, grad_fn=<DivBackward0>),\n",
       " tensor(0.1910, grad_fn=<DivBackward0>),\n",
       " tensor(0.1585, grad_fn=<DivBackward0>))"
      ]
     },
     "execution_count": 30,
     "metadata": {},
     "output_type": "execute_result"
    }
   ],
   "source": [
    "total_neighbors / total, total_features / total, total_other / total"
   ]
  },
  {
   "cell_type": "code",
   "execution_count": null,
   "metadata": {},
   "outputs": [],
   "source": []
  },
  {
   "cell_type": "markdown",
   "metadata": {},
   "source": [
    "### Exploring\n",
    "We explore the degree of uncertainty given to the incorrectly labeled data points. "
   ]
  },
  {
   "cell_type": "code",
   "execution_count": 129,
   "metadata": {},
   "outputs": [],
   "source": [
    "import matplotlib.pyplot as plt\n",
    "plt.rcParams['figure.figsize'] = (8, 5)"
   ]
  },
  {
   "cell_type": "code",
   "execution_count": 130,
   "metadata": {},
   "outputs": [],
   "source": [
    "# Extract incorrect labels\n",
    "y_hat_wrong = torch.nn.functional.softmax(output[idx][preds_eq == 0], dim=1)\n",
    "y_hat_right = torch.nn.functional.softmax(output[idx][preds_eq == 1], dim=1)\n",
    "# y_wrong = labels[idx][preds_eq == 0]\n",
    "#y_wrong_onehot = torch.eye(7)[labels[idx][preds_eq == 0]]"
   ]
  },
  {
   "cell_type": "code",
   "execution_count": 131,
   "metadata": {
    "scrolled": true
   },
   "outputs": [],
   "source": [
    "# # Some example data points\n",
    "# print('--- Example 53')\n",
    "# print('Prediction: ', y_hat_wrong[53].data.numpy())\n",
    "# print('Label: ', y_wrong[53].item())\n",
    "# print()\n",
    "# print('--- Example 33')\n",
    "# print('Prediction: ', y_hat_wrong[33].data.numpy())\n",
    "# print('Label: ', y_wrong[33].item())"
   ]
  },
  {
   "cell_type": "code",
   "execution_count": 142,
   "metadata": {},
   "outputs": [
    {
     "data": {
      "image/png": "[encoded data removed]",
      "text/plain": [
       "<Figure size 576x360 with 1 Axes>"
      ]
     },
     "metadata": {
      "needs_background": "light"
     },
     "output_type": "display_data"
    }
   ],
   "source": [
    "# The amount we are wrong for each example: \n",
    "# max predicted (wrong) class probability - the correct class probability\n",
    "# amt_wrong = y_hat_wrong.max(dim=1)[0] - (y_wrong_onehot * y_hat_wrong).sum(dim=1)\n",
    "\n",
    "entropy_wrong = -(y_hat_wrong * torch.log(y_hat_wrong)).sum(dim=1)\n",
    "entropy_right = -(y_hat_right * torch.log(y_hat_right)).sum(dim=1)\n",
    "plt.hist(entropy_right.detach().cpu().numpy(), bins=20, alpha=0.5)\n",
    "plt.hist(entropy_wrong.detach().cpu().numpy(), bins=20, alpha=0.5)\n",
    "plt.xlim(0.0,2.0)\n",
    "plt.title('Entropy (blue = correct predictions, orange = incorrect predictions)')\n",
    "plt.show()\n",
    "# plt.hist(amt_wrong.detach().cpu().numpy(), bins=20)\n"
   ]
  },
  {
   "cell_type": "code",
   "execution_count": 280,
   "metadata": {},
   "outputs": [],
   "source": [
    "# # Create connections to nodes\n",
    "# adj_vec =  torch.eye(adj.shape[0])[(labels == c).nonzero()[0:5]].sum(dim=0).squeeze() # 5 from class 5\n",
    "# adj_vec += torch.eye(adj.shape[0])[(labels == k).nonzero()[0:1]].sum(dim=0).squeeze() # 5 from class 5\n",
    "# adj_vec = torch.cat((adj_vec, torch.ones(1)))\n",
    "# adj_vec = (adj_vec / adj_vec.sum()).reshape(-1,1)\n",
    "\n",
    "# # Modify adjacency matrix\n",
    "# adj_ood = adj.to_dense()\n",
    "# adj_ood = torch.cat((torch.cat((adj_ood, adj_vec[:-1]), dim=1), adj_vec.t()), dim=0)\n",
    "# adj_ood = dense_to_sparse(adj_ood)len(idx_test)"
   ]
  },
  {
   "cell_type": "code",
   "execution_count": 360,
   "metadata": {},
   "outputs": [],
   "source": [
    "# # Synthetic\n",
    "# synthetic = [[1,1,1,1,1,1],\n",
    "#              [1,1,0,0,0,0],\n",
    "#              [1,0,1,0,0,0],\n",
    "#              [1,0,0,1,0,0],\n",
    "#              [1,0,0,0,1,0],\n",
    "#              [1,0,0,0,0,1],]\n",
    "# synthetic = torch.FloatTensor(synthetic)\n",
    "# synthetic = synthetic / synthetic.sum(dim=1, keepdim=True)\n",
    "# synthetic = dense_to_sparse(synthetic)\n",
    "\n",
    "# # Modify features\n",
    "# neighbor_feats  = feats[labels == n].mean(dim=0, keepdim=True)\n",
    "# node_feats      = feats[labels == m].mean(dim=0, keepdim=True)\n",
    "# synthetic_feats = [node_feats] + [neighbor_feats for _ in range(5)]\n",
    "# synthetic_feats = torch.cat(synthetic_feats, dim=0)\n"
   ]
  },
  {
   "cell_type": "code",
   "execution_count": null,
   "metadata": {},
   "outputs": [],
   "source": [
    "# PROBS\n",
    "# conf_max = probs.max(1)[0]\n",
    "# conf_max_correct = conf_max[probs.max(1)[1] == labels[idx]]\n",
    "# conf_max_incorrect = conf_max[probs.max(1)[1] != labels[idx]]\n",
    "\n",
    "# Comment this out if desired\n",
    "# conf_notmax = (probs * (probs != probs.max(1)[0].reshape(-1,1)).float()).reshape(-1)\n",
    "# conf_notmax = conf_notmax[conf_notmax.nonzero()]\n",
    "# conf_max = conf_max.detach().numpy()\n",
    "# conf_notmax = conf_notmax.detach().numpy()"
   ]
  }
 ],
 "metadata": {
  "kernelspec": {
   "display_name": "Python 3",
   "language": "python",
   "name": "python3"
  },
  "language_info": {
   "codemirror_mode": {
    "name": "ipython",
    "version": 3
   },
   "file_extension": ".py",
   "mimetype": "text/x-python",
   "name": "python",
   "nbconvert_exporter": "python",
   "pygments_lexer": "ipython3",
   "version": "3.6.6"
  }
 },
 "nbformat": 4,
 "nbformat_minor": 2
}
