{
 "cells": [
  {
   "cell_type": "markdown",
   "metadata": {},
   "source": [
    "#### GDN with MC-Dropout\n",
    "Gal et al."
   ]
  },
  {
   "cell_type": "code",
   "execution_count": 6,
   "metadata": {},
   "outputs": [],
   "source": [
    "import sys\n",
    "import os\n",
    "import time\n",
    "import argparse\n",
    "import pdb\n",
    "\n",
    "import numpy as np\n",
    "import torch\n",
    "import torch.nn as nn\n",
    "import torch.optim as optim\n",
    "\n",
    "# Add higher directory to python modules path.\n",
    "sys.path.append(\"..\") \n",
    "from dataloader import load_cora\n",
    "from model import GCN"
   ]
  },
  {
   "cell_type": "code",
   "execution_count": 52,
   "metadata": {},
   "outputs": [],
   "source": [
    "class obj(object):\n",
    "    def __init__(self, d):\n",
    "        for a, b in d.items():\n",
    "            if isinstance(b, (list, tuple)):\n",
    "               setattr(self, a, [obj(x) if isinstance(x, dict) else x for x in b])\n",
    "            else:\n",
    "               setattr(self, a, obj(b) if isinstance(b, dict) else b)\n",
    "args = {\n",
    "    'gpu': 1,\n",
    "    'seed': None,\n",
    "    'epochs': 500,\n",
    "    'lr': 0.01,\n",
    "    'wd': 5e-4,\n",
    "    'layers': 2,\n",
    "    'h_size': 16,\n",
    "    'dropout': 0.5,\n",
    "    'val_every': -1,\n",
    "    'val_only': 1,\n",
    "    'checkpoint': 0, \n",
    "    'model': '../save/model-val-0.8200.pth', \n",
    "    'log_every': 50,\n",
    "    'prepro': '../../data/cora/preprocessed.pth',\n",
    "    'test': 0,\n",
    "}\n",
    "args = obj(args)"
   ]
  },
  {
   "cell_type": "code",
   "execution_count": 53,
   "metadata": {},
   "outputs": [],
   "source": [
    "# Setup\n",
    "start = time.time()\n",
    "args.gpu = args.gpu and torch.cuda.is_available() and False\n",
    "if args.seed is not None:\n",
    "    np.random.seed(args.seed)\n",
    "    torch.manual_seed(args.seed)\n",
    "    if args.cuda:\n",
    "        torch.cuda.manual_seed(args.seed)\n",
    "\n",
    "# Data\n",
    "if args.prepro:\n",
    "    tmp = torch.load(args.prepro)\n",
    "    adj_i, adj_v, adj_s, feats, labels, idx_train, idx_val, idx_test = tmp\n",
    "    adj = torch.sparse.FloatTensor(adj_i, adj_v, adj_s)\n",
    "else:\n",
    "    adj, feats, labels, idx_train, idx_val, idx_test = load_cora()"
   ]
  },
  {
   "cell_type": "code",
   "execution_count": 54,
   "metadata": {},
   "outputs": [],
   "source": [
    "# Model\n",
    "model = GCN(num_layers=args.layers, \n",
    "            in_size=feats.shape[1],\n",
    "            h_size=args.h_size, \n",
    "            out_size=labels.max().item() + 1,\n",
    "            dropout=args.dropout,\n",
    "            mc_dropout=True)\n",
    "if args.model:\n",
    "    model.load_state_dict(torch.load(args.model))\n",
    "\n",
    "# Optimizer\n",
    "optimizer = optim.Adam(model.parameters(), lr=args.lr, weight_decay=args.wd)\n",
    "\n",
    "# GPU\n",
    "if args.gpu:\n",
    "    tmp = model, adj, feats, labels, idx_train, idx_val, idx_test\n",
    "    tmp = [x.cuda() for x in tmp]\n",
    "    model, adj, feats, labels, idx_train, idx_val, idx_test = tmp"
   ]
  },
  {
   "cell_type": "code",
   "execution_count": null,
   "metadata": {},
   "outputs": [],
   "source": [
    "import torch.nn.functional as F \n",
    "\n",
    "# Validation: average over samples\n",
    "model.eval()\n",
    "total = 0\n",
    "num_samples = 100\n",
    "for i in range(num_samples):\n",
    "    output = model(feats, adj)\n",
    "    idx = idx_val # helper\n",
    "    y_hat, y = (output[idx], labels[idx]) # helper\n",
    "    loss = F.cross_entropy(y_hat, y)\n",
    "    preds = y_hat.max(1)[1].type_as(y)\n",
    "    preds_eq = preds.eq(y)\n",
    "    acc = preds_eq.float().sum() / len(y)\n",
    "    total += acc    \n",
    "print(total / num_samples)"
   ]
  },
  {
   "cell_type": "markdown",
   "metadata": {},
   "source": [
    "#### Exploring\n",
    "We explore the degree of uncertainty given to the incorrectly labeled data points. "
   ]
  },
  {
   "cell_type": "code",
   "execution_count": 33,
   "metadata": {},
   "outputs": [],
   "source": [
    "import matplotlib.pyplot as plt\n",
    "plt.rcParams['figure.figsize'] = (20, 10)"
   ]
  },
  {
   "cell_type": "code",
   "execution_count": 19,
   "metadata": {},
   "outputs": [],
   "source": [
    "# Extract incorrect labels\n",
    "idx = idx_val\n",
    "y_hat_wrong = torch.nn.functional.softmax(output[idx][preds_eq == 0], dim=1)\n",
    "y_wrong = labels[idx][preds_eq == 0]\n",
    "y_wrong_onehot = torch.eye(7)[labels[idx][preds_eq == 0]]"
   ]
  },
  {
   "cell_type": "code",
   "execution_count": 31,
   "metadata": {
    "scrolled": true
   },
   "outputs": [
    {
     "name": "stdout",
     "output_type": "stream",
     "text": [
      "--- Example 53\n",
      "Prediction:  [0.0038336  0.0264072  0.00794656 0.00600775 0.02236747 0.88942635\n",
      " 0.04401103]\n",
      "Label:  1\n",
      "\n",
      "--- Example 33\n",
      "Prediction:  [0.10840377 0.07533472 0.06667564 0.0504989  0.16540006 0.37090844\n",
      " 0.1627784 ]\n",
      "Label:  0\n"
     ]
    }
   ],
   "source": [
    "# Some example data points\n",
    "print('--- Example 53') #index 493 in original data set\n",
    "print('Prediction: ', y_hat_wrong[53].data.numpy())\n",
    "print('Label: ', y_wrong[53].item())\n",
    "print()\n",
    "print('--- Example 33')\n",
    "print('Prediction: ', y_hat_wrong[33].data.numpy())\n",
    "print('Label: ', y_wrong[33].item())"
   ]
  },
  {
   "cell_type": "code",
   "execution_count": 34,
   "metadata": {},
   "outputs": [
    {
     "data": {
      "text/plain": [
       "(array([13., 13., 14.,  3.,  1.,  3.,  0.,  1.,  2.,  1.,  0.,  0.,  0.,\n",
       "         0.,  0.,  0.,  0.,  1.,  0.,  2.]),\n",
       " array([0.00322671, 0.04686362, 0.09050052, 0.13413742, 0.17777433,\n",
       "        0.22141123, 0.26504812, 0.30868503, 0.35232192, 0.39595884,\n",
       "        0.43959573, 0.48323265, 0.52686954, 0.57050645, 0.6141434 ,\n",
       "        0.65778023, 0.70141715, 0.74505407, 0.788691  , 0.83232784,\n",
       "        0.87596476], dtype=float32),\n",
       " <a list of 20 Patch objects>)"
      ]
     },
     "execution_count": 34,
     "metadata": {},
     "output_type": "execute_result"
    },
    {
     "data": {
      "image/png": "[encoded data removed]",
      "text/plain": [
       "<Figure size 1440x720 with 1 Axes>"
      ]
     },
     "metadata": {
      "needs_background": "light"
     },
     "output_type": "display_data"
    }
   ],
   "source": [
    "# The amount we are wrong for each example: \n",
    "# max predicted (wrong) class probability - the correct class probability\n",
    "amt_wrong = y_hat_wrong.max(dim=1)[0] - (y_wrong_onehot * y_hat_wrong).sum(dim=1)\n",
    "plt.hist(amt_wrong.detach().cpu().numpy(), bins=20)"
   ]
  },
  {
   "cell_type": "code",
   "execution_count": null,
   "metadata": {},
   "outputs": [],
   "source": []
  }
 ],
 "metadata": {
  "kernelspec": {
   "display_name": "Python 3",
   "language": "python",
   "name": "python3"
  },
  "language_info": {
   "codemirror_mode": {
    "name": "ipython",
    "version": 3
   },
   "file_extension": ".py",
   "mimetype": "text/x-python",
   "name": "python",
   "nbconvert_exporter": "python",
   "pygments_lexer": "ipython3",
   "version": "3.6.6"
  }
 },
 "nbformat": 4,
 "nbformat_minor": 2
}
