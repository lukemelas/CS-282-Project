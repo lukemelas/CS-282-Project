{
 "cells": [
  {
   "cell_type": "markdown",
   "metadata": {},
   "source": [
    "#### GDN with MC-Dropout\n",
    "Gal et al."
   ]
  },
  {
   "cell_type": "code",
   "execution_count": 6,
   "metadata": {},
   "outputs": [],
   "source": [
    "import sys\n",
    "import os\n",
    "import time\n",
    "import argparse\n",
    "import pdb\n",
    "\n",
    "import numpy as np\n",
    "import torch\n",
    "import torch.nn as nn\n",
    "import torch.optim as optim\n",
    "\n",
    "# Add higher directory to python modules path.\n",
    "sys.path.append(\"..\") \n",
    "from dataloader import load_cora\n",
    "from model import GCN"
   ]
  },
  {
   "cell_type": "code",
   "execution_count": 68,
   "metadata": {},
   "outputs": [],
   "source": [
    "class obj(object):\n",
    "    def __init__(self, d):\n",
    "        for a, b in d.items():\n",
    "            if isinstance(b, (list, tuple)):\n",
    "               setattr(self, a, [obj(x) if isinstance(x, dict) else x for x in b])\n",
    "            else:\n",
    "               setattr(self, a, obj(b) if isinstance(b, dict) else b)\n",
    "args = {\n",
    "    'gpu': 1,\n",
    "    'seed': None,\n",
    "    'epochs': 500,\n",
    "    'lr': 0.01,\n",
    "    'wd': 5e-4,\n",
    "    'layers': 2,\n",
    "    'h_size': 16,\n",
    "    'dropout': 0.5,\n",
    "    'val_every': -1,\n",
    "    'val_only': 1,\n",
    "    'checkpoint': 0, \n",
    "    'model': '../save/model-val-0.8233.pth', \n",
    "    'log_every': 50,\n",
    "    'prepro': '../../data/cora/preprocessed.pth',\n",
    "    'test': 0,\n",
    "}\n",
    "args = obj(args)"
   ]
  },
  {
   "cell_type": "code",
   "execution_count": 69,
   "metadata": {},
   "outputs": [],
   "source": [
    "# Setup\n",
    "start = time.time()\n",
    "args.gpu = args.gpu and torch.cuda.is_available() and False\n",
    "if args.seed is not None:\n",
    "    np.random.seed(args.seed)\n",
    "    torch.manual_seed(args.seed)\n",
    "    if args.cuda:\n",
    "        torch.cuda.manual_seed(args.seed)\n",
    "\n",
    "# Data\n",
    "if args.prepro:\n",
    "    tmp = torch.load(args.prepro)\n",
    "    adj_i, adj_v, adj_s, feats, labels, idx_train, idx_val, idx_test = tmp\n",
    "    adj = torch.sparse.FloatTensor(adj_i, adj_v, adj_s)\n",
    "else:\n",
    "    adj, feats, labels, idx_train, idx_val, idx_test = load_cora()"
   ]
  },
  {
   "cell_type": "code",
   "execution_count": 70,
   "metadata": {},
   "outputs": [],
   "source": [
    "# Model\n",
    "model = GCN(num_layers=args.layers, \n",
    "            in_size=feats.shape[1],\n",
    "            h_size=args.h_size, \n",
    "            out_size=labels.max().item() + 1,\n",
    "            dropout=args.dropout,\n",
    "            mc_dropout=True)\n",
    "if args.model:\n",
    "    model.load_state_dict(torch.load(args.model))\n",
    "\n",
    "# Optimizer\n",
    "optimizer = optim.Adam(model.parameters(), lr=args.lr, weight_decay=args.wd)\n",
    "\n",
    "# GPU\n",
    "if args.gpu:\n",
    "    tmp = model, adj, feats, labels, idx_train, idx_val, idx_test\n",
    "    tmp = [x.cuda() for x in tmp]\n",
    "    model, adj, feats, labels, idx_train, idx_val, idx_test = tmp"
   ]
  },
  {
   "cell_type": "code",
   "execution_count": 88,
   "metadata": {},
   "outputs": [
    {
     "name": "stdout",
     "output_type": "stream",
     "text": [
      "tensor(0.7638)\n"
     ]
    }
   ],
   "source": [
    "import torch.nn.functional as F \n",
    "\n",
    "# Data for validation/plotting \n",
    "idx = torch.cat((idx_val, idx_test))\n",
    "\n",
    "# Validation: average over samples\n",
    "model.eval()\n",
    "total_preds = 0\n",
    "num_samples = 100\n",
    "for i in range(num_samples):\n",
    "    output = model(feats, adj)\n",
    "    y_hat, y = (output[idx], labels[idx]) # helper\n",
    "    loss = F.cross_entropy(y_hat, y)\n",
    "    total_preds += preds\n",
    "preds = total_preds / num_samples\n",
    "preds = y_hat.max(1)[1].type_as(y)\n",
    "preds_eq = preds.eq(y)\n",
    "acc = preds_eq.float().sum() / len(y)\n",
    "print(acc)"
   ]
  },
  {
   "cell_type": "markdown",
   "metadata": {},
   "source": [
    "#### Exploring\n",
    "We explore the degree of uncertainty given to the incorrectly labeled data points. "
   ]
  },
  {
   "cell_type": "code",
   "execution_count": 89,
   "metadata": {},
   "outputs": [],
   "source": [
    "import matplotlib.pyplot as plt\n",
    "plt.rcParams['figure.figsize'] = (20, 10)"
   ]
  },
  {
   "cell_type": "code",
   "execution_count": 90,
   "metadata": {},
   "outputs": [],
   "source": [
    "# Extract incorrect labels\n",
    "y_hat_wrong = torch.nn.functional.softmax(output[idx][preds_eq == 0], dim=1)\n",
    "y_wrong = labels[idx][preds_eq == 0]\n",
    "y_wrong_onehot = torch.eye(7)[labels[idx][preds_eq == 0]]"
   ]
  },
  {
   "cell_type": "code",
   "execution_count": 91,
   "metadata": {
    "scrolled": true
   },
   "outputs": [
    {
     "name": "stdout",
     "output_type": "stream",
     "text": [
      "--- Example 53\n",
      "Prediction:  [0.21022612 0.10971968 0.19391564 0.20956302 0.20058776 0.02863739\n",
      " 0.04735033]\n",
      "Label:  2\n",
      "\n",
      "--- Example 33\n",
      "Prediction:  [0.31988177 0.06028238 0.08148964 0.25225142 0.10844477 0.15625136\n",
      " 0.02139865]\n",
      "Label:  3\n"
     ]
    }
   ],
   "source": [
    "# Some example data points\n",
    "print('--- Example 53')\n",
    "print('Prediction: ', y_hat_wrong[53].data.numpy())\n",
    "print('Label: ', y_wrong[53].item())\n",
    "print()\n",
    "print('--- Example 33')\n",
    "print('Prediction: ', y_hat_wrong[33].data.numpy())\n",
    "print('Label: ', y_wrong[33].item())"
   ]
  },
  {
   "cell_type": "code",
   "execution_count": 92,
   "metadata": {},
   "outputs": [
    {
     "data": {
      "text/plain": [
       "(array([63., 45., 52., 31., 24., 17., 17., 16.,  9.,  4.,  5.,  5.,  5.,\n",
       "         4.,  5.,  0.,  2.,  1.,  1.,  1.]),\n",
       " array([0.00106603, 0.04973223, 0.09839842, 0.14706463, 0.19573082,\n",
       "        0.24439701, 0.29306322, 0.3417294 , 0.3903956 , 0.4390618 ,\n",
       "        0.487728  , 0.5363942 , 0.5850604 , 0.6337266 , 0.6823928 ,\n",
       "        0.73105896, 0.7797252 , 0.8283914 , 0.87705755, 0.9257238 ,\n",
       "        0.97439   ], dtype=float32),\n",
       " <a list of 20 Patch objects>)"
      ]
     },
     "execution_count": 92,
     "metadata": {},
     "output_type": "execute_result"
    },
    {
     "data": {
      "image/png": "[encoded data removed]",
      "text/plain": [
       "<Figure size 1440x720 with 1 Axes>"
      ]
     },
     "metadata": {
      "needs_background": "light"
     },
     "output_type": "display_data"
    }
   ],
   "source": [
    "# The amount we are wrong for each example: \n",
    "# max predicted (wrong) class probability - the correct class probability\n",
    "amt_wrong = y_hat_wrong.max(dim=1)[0] - (y_wrong_onehot * y_hat_wrong).sum(dim=1)\n",
    "plt.hist(amt_wrong.detach().cpu().numpy(), bins=20)"
   ]
  },
  {
   "cell_type": "code",
   "execution_count": null,
   "metadata": {},
   "outputs": [],
   "source": []
  }
 ],
 "metadata": {
  "kernelspec": {
   "display_name": "Python 3",
   "language": "python",
   "name": "python3"
  },
  "language_info": {
   "codemirror_mode": {
    "name": "ipython",
    "version": 3
   },
   "file_extension": ".py",
   "mimetype": "text/x-python",
   "name": "python",
   "nbconvert_exporter": "python",
   "pygments_lexer": "ipython3",
   "version": "3.6.6"
  }
 },
 "nbformat": 4,
 "nbformat_minor": 2
}
