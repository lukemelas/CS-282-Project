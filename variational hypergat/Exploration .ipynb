{
 "cells": [
  {
   "cell_type": "code",
   "execution_count": 58,
   "metadata": {
    "scrolled": false
   },
   "outputs": [
    {
     "name": "stdout",
     "output_type": "stream",
     "text": [
      "Loading cora dataset...\n",
      "FINISHED LOADING DATA\n"
     ]
    }
   ],
   "source": [
    "!python train.py"
   ]
  },
  {
   "cell_type": "code",
   "execution_count": 19,
   "metadata": {},
   "outputs": [
    {
     "name": "stdout",
     "output_type": "stream",
     "text": [
      "Loading cora dataset...\n"
     ]
    }
   ],
   "source": [
    "from utils import load_data, accuracy\n",
    "adj, features, labels, idx_train, idx_val, idx_test = load_data()\n"
   ]
  },
  {
   "cell_type": "code",
   "execution_count": 20,
   "metadata": {},
   "outputs": [
    {
     "data": {
      "text/plain": [
       "tensor([[0.1667, 0.0000, 0.0000,  ..., 0.0000, 0.0000, 0.0000],\n",
       "        [0.0000, 0.5000, 0.0000,  ..., 0.0000, 0.0000, 0.0000],\n",
       "        [0.0000, 0.0000, 0.2000,  ..., 0.0000, 0.0000, 0.0000],\n",
       "        ...,\n",
       "        [0.0000, 0.0000, 0.0000,  ..., 0.2000, 0.0000, 0.0000],\n",
       "        [0.0000, 0.0000, 0.0000,  ..., 0.0000, 0.2000, 0.0000],\n",
       "        [0.0000, 0.0000, 0.0000,  ..., 0.0000, 0.0000, 0.2500]])"
      ]
     },
     "execution_count": 20,
     "metadata": {},
     "output_type": "execute_result"
    }
   ],
   "source": [
    "adj"
   ]
  },
  {
   "cell_type": "code",
   "execution_count": 47,
   "metadata": {},
   "outputs": [],
   "source": [
    "import numpy as np\n",
    "x = np.load('newgraph.npy')\n",
    "x = (x + np.eye(len(x))) > 0\n",
    "x = x / np.sum(x, axis=1)"
   ]
  },
  {
   "cell_type": "code",
   "execution_count": 48,
   "metadata": {},
   "outputs": [
    {
     "data": {
      "text/plain": [
       "tensor([[0.1667, 0.0000, 0.0000,  ..., 0.0000, 0.0000, 0.0000],\n",
       "        [0.0000, 0.5000, 0.0000,  ..., 0.0000, 0.0000, 0.0000],\n",
       "        [0.0000, 0.0000, 0.2000,  ..., 0.0000, 0.0000, 0.0000],\n",
       "        ...,\n",
       "        [0.0000, 0.0000, 0.0000,  ..., 0.2000, 0.0000, 0.0000],\n",
       "        [0.0000, 0.0000, 0.0000,  ..., 0.0000, 0.2000, 0.0000],\n",
       "        [0.0000, 0.0000, 0.0000,  ..., 0.0000, 0.0000, 0.2500]])"
      ]
     },
     "execution_count": 48,
     "metadata": {},
     "output_type": "execute_result"
    }
   ],
   "source": [
    "adj"
   ]
  },
  {
   "cell_type": "code",
   "execution_count": 49,
   "metadata": {},
   "outputs": [
    {
     "data": {
      "text/plain": [
       "array([[0.14285714, 0.        , 0.        , ..., 0.        , 0.        ,\n",
       "        0.        ],\n",
       "       [0.        , 0.16666667, 0.        , ..., 0.        , 0.        ,\n",
       "        0.        ],\n",
       "       [0.        , 0.        , 0.25      , ..., 0.        , 0.        ,\n",
       "        0.        ],\n",
       "       ...,\n",
       "       [0.        , 0.        , 0.        , ..., 1.        , 0.        ,\n",
       "        0.        ],\n",
       "       [0.        , 0.        , 0.        , ..., 0.        , 0.14285714,\n",
       "        0.        ],\n",
       "       [0.        , 0.        , 0.        , ..., 0.        , 0.        ,\n",
       "        0.16666667]])"
      ]
     },
     "execution_count": 49,
     "metadata": {},
     "output_type": "execute_result"
    }
   ],
   "source": [
    "x"
   ]
  },
  {
   "cell_type": "code",
   "execution_count": 50,
   "metadata": {},
   "outputs": [
    {
     "data": {
      "text/plain": [
       "(DescribeResult(nobs=2708, minmax=(array([0., 0., 0., ..., 0., 0., 0.], dtype=float32), array([0.18257418, 0.5       , 0.2       , ..., 0.2581989 , 0.31622776,\n",
       "        0.35355338], dtype=float32)), mean=array([0.00032929, 0.0002308 , 0.00024343, ..., 0.0003894 , 0.00038289,\n",
       "        0.00039777], dtype=float32), variance=array([5.1196195e-05, 9.8078286e-05, 3.8920065e-05, ..., 8.4401909e-05,\n",
       "        8.4994812e-05, 1.1066525e-04], dtype=float32), skewness=array([22.427404, 48.22218 , 28.009035, ..., 24.120283, 25.982422,\n",
       "        27.379131], dtype=float32), kurtosis=array([ 512.8776 , 2402.959  ,  813.34955, ...,  591.45996,  726.42633,\n",
       "         775.518  ], dtype=float32)),\n",
       " DescribeResult(nobs=2708, minmax=(array([0., 0., 0., ..., 0., 0., 0.]), array([0.14285714, 0.16666667, 0.25      , ..., 1.        , 0.14285714,\n",
       "        0.16666667])), mean=array([0.00036928, 0.00036928, 0.00036928, ..., 0.00036928, 0.00036928,\n",
       "        0.00036928]), variance=array([5.26368181e-05, 6.14323570e-05, 9.22167432e-05, ...,\n",
       "        3.69276219e-04, 5.26368181e-05, 6.14323570e-05]), skewness=array([19.59233867, 21.17393572, 25.96153846, ..., 52.00961805,\n",
       "        19.59233867, 21.17393572]), kurtosis=array([ 381.85973449,  446.33555391,  672.00147929, ..., 2703.00036941,\n",
       "         381.85973449,  446.33555391])))"
      ]
     },
     "execution_count": 50,
     "metadata": {},
     "output_type": "execute_result"
    }
   ],
   "source": [
    "from scipy.stats import describe\n",
    "\n",
    "describe(adj), describe(x)"
   ]
  },
  {
   "cell_type": "code",
   "execution_count": 53,
   "metadata": {},
   "outputs": [
    {
     "data": {
      "text/plain": [
       "(tensor([0.8917, 0.6250, 0.6592,  ..., 1.0545, 1.0369, 1.0772]),\n",
       " tensor([0.8917, 0.6250, 0.6592,  ..., 1.0545, 1.0369, 1.0772]))"
      ]
     },
     "execution_count": 53,
     "metadata": {},
     "output_type": "execute_result"
    }
   ],
   "source": [
    "adj.sum(dim=1), adj.sum(dim=0)"
   ]
  },
  {
   "cell_type": "code",
   "execution_count": null,
   "metadata": {},
   "outputs": [],
   "source": []
  }
 ],
 "metadata": {
  "kernelspec": {
   "display_name": "Python 3",
   "language": "python",
   "name": "python3"
  },
  "language_info": {
   "codemirror_mode": {
    "name": "ipython",
    "version": 3
   },
   "file_extension": ".py",
   "mimetype": "text/x-python",
   "name": "python",
   "nbconvert_exporter": "python",
   "pygments_lexer": "ipython3",
   "version": "3.6.6"
  }
 },
 "nbformat": 4,
 "nbformat_minor": 2
}
