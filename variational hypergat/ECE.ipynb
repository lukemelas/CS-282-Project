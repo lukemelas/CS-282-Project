{
 "cells": [
  {
   "cell_type": "code",
   "execution_count": 1,
   "metadata": {},
   "outputs": [],
   "source": [
    "from __future__ import division\n",
    "from __future__ import print_function\n",
    "\n",
    "import os\n",
    "import glob\n",
    "import time\n",
    "import random\n",
    "import argparse\n",
    "import scipy.sparse as sp\n",
    "import numpy as np\n",
    "import torch\n",
    "import torch.nn as nn\n",
    "import torch.nn.functional as F\n",
    "import torch.optim as optim\n",
    "from torch.autograd import Variable\n",
    "import pdb\n",
    "\n",
    "from utils import load_data, accuracy, normalize_adj\n",
    "from models import GAT, SpGAT\n"
   ]
  },
  {
   "cell_type": "code",
   "execution_count": 2,
   "metadata": {},
   "outputs": [
    {
     "name": "stdout",
     "output_type": "stream",
     "text": [
      "Loading cora dataset...\n"
     ]
    }
   ],
   "source": [
    "# Load data\n",
    "adj, features, labels, idx_train, idx_val, idx_test = load_data()"
   ]
  },
  {
   "cell_type": "code",
   "execution_count": 3,
   "metadata": {},
   "outputs": [],
   "source": [
    "# model = SpGAT(nfeat=1433, \n",
    "#                 nhid=8, \n",
    "#                 nclass=7, \n",
    "#                 dropout=0.6, \n",
    "#                 nheads=8, \n",
    "#                 alpha=0.2)\n",
    "\n",
    "model = torch.load('model.pth')\n",
    "\n",
    "model.cuda()\n",
    "features = features.cuda()\n",
    "adj = adj.cuda()\n",
    "labels = labels.cuda()\n",
    "idx_train = idx_train.cuda()\n",
    "idx_val = idx_val.cuda()\n",
    "idx_test = idx_test.cuda()\n"
   ]
  },
  {
   "cell_type": "code",
   "execution_count": 4,
   "metadata": {},
   "outputs": [
    {
     "data": {
      "text/plain": [
       "GAT(\n",
       "  (attention_0): GraphAttentionLayer (1433 -> 8)\n",
       "  (attention_1): GraphAttentionLayer (1433 -> 8)\n",
       "  (attention_2): GraphAttentionLayer (1433 -> 8)\n",
       "  (attention_3): GraphAttentionLayer (1433 -> 8)\n",
       "  (attention_4): GraphAttentionLayer (1433 -> 8)\n",
       "  (attention_5): GraphAttentionLayer (1433 -> 8)\n",
       "  (attention_6): GraphAttentionLayer (1433 -> 8)\n",
       "  (attention_7): GraphAttentionLayer (1433 -> 8)\n",
       "  (out_att): GraphAttentionLayer (64 -> 7)\n",
       ")"
      ]
     },
     "execution_count": 4,
     "metadata": {},
     "output_type": "execute_result"
    }
   ],
   "source": [
    "model"
   ]
  },
  {
   "cell_type": "code",
   "execution_count": 5,
   "metadata": {},
   "outputs": [
    {
     "name": "stdout",
     "output_type": "stream",
     "text": [
      "Test set results: loss= 0.6064 accuracy= 0.8450\n"
     ]
    },
    {
     "name": "stderr",
     "output_type": "stream",
     "text": [
      "/anaconda/envs/py3/lib/python3.6/site-packages/ipykernel_launcher.py:6: UserWarning: invalid index of a 0-dim tensor. This will be an error in PyTorch 0.5. Use tensor.item() to convert a 0-dim tensor to a Python number\n",
      "  \n",
      "/anaconda/envs/py3/lib/python3.6/site-packages/ipykernel_launcher.py:7: UserWarning: invalid index of a 0-dim tensor. This will be an error in PyTorch 0.5. Use tensor.item() to convert a 0-dim tensor to a Python number\n",
      "  import sys\n"
     ]
    }
   ],
   "source": [
    "model.eval()\n",
    "output, _ = model(features, adj)\n",
    "loss_test = F.nll_loss(output[idx_test], labels[idx_test])\n",
    "acc_test = accuracy(output[idx_test], labels[idx_test])\n",
    "print(\"Test set results:\",\n",
    "      \"loss= {:.4f}\".format(loss_test.data[0]),\n",
    "      \"accuracy= {:.4f}\".format(acc_test.data[0]))"
   ]
  },
  {
   "cell_type": "code",
   "execution_count": 6,
   "metadata": {},
   "outputs": [
    {
     "data": {
      "text/plain": [
       "(array([[9.70403125e-05, 1.35137234e-04, 1.31750348e-04, ...,\n",
       "         8.13976294e-05, 9.99364078e-01, 9.09266746e-05],\n",
       "        [6.39558807e-02, 2.06505470e-02, 2.97233909e-02, ...,\n",
       "         3.21251974e-02, 2.40277722e-02, 2.19605267e-02],\n",
       "        [1.31304993e-03, 6.75135816e-04, 1.22820167e-03, ...,\n",
       "         8.80766485e-04, 9.59069177e-04, 9.93753850e-01],\n",
       "        ...,\n",
       "        [1.76413544e-02, 1.38439592e-02, 8.63996863e-01, ...,\n",
       "         1.80933159e-02, 3.20498198e-02, 1.44489706e-02],\n",
       "        [1.28949843e-02, 9.16647818e-03, 1.42125664e-02, ...,\n",
       "         8.87108326e-01, 1.37146264e-02, 2.89653055e-02],\n",
       "        [6.87805889e-03, 1.00686215e-02, 1.44255431e-02, ...,\n",
       "         6.31003967e-03, 9.43994105e-01, 5.21368766e-03]], dtype=float32),\n",
       " array([[ 0,  0,  0, ...,  0, 19,  0],\n",
       "        [ 1,  0,  0, ...,  0,  0,  0],\n",
       "        [ 0,  0,  0, ...,  0,  0, 19],\n",
       "        ...,\n",
       "        [ 0,  0, 17, ...,  0,  0,  0],\n",
       "        [ 0,  0,  0, ..., 17,  0,  0],\n",
       "        [ 0,  0,  0, ...,  0, 18,  0]]),\n",
       " array([5, 3, 6, ..., 2, 4, 5]))"
      ]
     },
     "execution_count": 6,
     "metadata": {},
     "output_type": "execute_result"
    }
   ],
   "source": [
    "probs = torch.exp(output).cpu().detach().numpy()\n",
    "labels = labels.cpu().detach().numpy()\n",
    "bins = np.arange(0, 1.1, 0.05)\n",
    "inds = np.digitize(probs, bins) - 1\n",
    "\n",
    "probs, inds, labels"
   ]
  },
  {
   "cell_type": "code",
   "execution_count": 34,
   "metadata": {},
   "outputs": [
    {
     "name": "stdout",
     "output_type": "stream",
     "text": [
      "0.025 0.006143584342636475\n",
      "0.07500000000000001 0.03431909456005842\n",
      "0.125 0.08227848101265822\n",
      "0.17500000000000002 0.13655462184873948\n",
      "0.225 0.19786096256684493\n",
      "0.275 0.36947791164658633\n",
      "0.32500000000000007 0.4661016949152542\n",
      "0.375 0.5050505050505051\n",
      "0.42500000000000004 0.5988023952095808\n",
      "0.475 0.6944444444444444\n",
      "0.525 0.7480916030534351\n",
      "0.5750000000000001 0.78125\n",
      "0.625 0.8048780487804879\n",
      "0.675 0.8157894736842105\n",
      "0.7250000000000001 0.8709677419354839\n",
      "0.775 0.9069767441860465\n",
      "0.8250000000000001 0.8757396449704142\n",
      "0.875 0.9216589861751152\n",
      "0.925 0.9326241134751773\n",
      "0.9750000000000001 0.9755700325732899\n"
     ]
    },
    {
     "name": "stderr",
     "output_type": "stream",
     "text": [
      "/anaconda/envs/py3/lib/python3.6/site-packages/ipykernel_launcher.py:12: RuntimeWarning: invalid value encountered in true_divide\n",
      "  if sys.path[0] == '':\n"
     ]
    },
    {
     "data": {
      "image/png": "[encoded data removed]",
      "text/plain": [
       "<Figure size 432x288 with 1 Axes>"
      ]
     },
     "metadata": {
      "needs_background": "light"
     },
     "output_type": "display_data"
    },
    {
     "name": "stdout",
     "output_type": "stream",
     "text": [
      "ECE 0.036323591474994726\n"
     ]
    }
   ],
   "source": [
    "def ECE(inds, labels, bins):\n",
    "    ## Produce Plot\n",
    "    labels_onehot = torch.zeros(7, len(labels)).scatter_(0,torch.LongTensor([labels]),1).numpy().T\n",
    "    bin_avgs = (bins[:-1] + bins[1:]) / 2\n",
    "\n",
    "    ece = 0\n",
    "    true_probs = []\n",
    "    for idx, b in enumerate(bins):\n",
    "        num = np.sum(inds == idx)\n",
    "        # print(labels_onehot, inds == idx, 'value', labels_onehot[inds == idx])\n",
    "        correct = np.sum(labels_onehot[inds == idx])\n",
    "        true_probs.append(correct/num)\n",
    "        if num > 0:\n",
    "            print(bin_avgs[idx], correct/num)\n",
    "            ece += num / (7 * len(labels)) * np.abs(bin_avgs[idx] - correct/num)     \n",
    "            # print(num / (7 * len(labels)) * np.abs(bin_avgs[idx] - correct/num))\n",
    "\n",
    "    import matplotlib.pyplot as plt\n",
    "    plt.bar(bin_avgs, true_probs[1:], width=bins[1]-bins[0]-0.01, color='blue', alpha=0.5) #true\n",
    "    plt.bar(bin_avgs, bin_avgs, width=bins[1]-bins[0]-0.01, color='orange', alpha=0.5) #ideal\n",
    "    plt.show()\n",
    "\n",
    "    print(\"ECE\", ece)\n",
    "    \n",
    "ECE(inds, labels, bins) #whole set"
   ]
  },
  {
   "cell_type": "code",
   "execution_count": 33,
   "metadata": {},
   "outputs": [
    {
     "name": "stderr",
     "output_type": "stream",
     "text": [
      "/anaconda/envs/py3/lib/python3.6/site-packages/ipykernel_launcher.py:12: RuntimeWarning: invalid value encountered in true_divide\n",
      "  if sys.path[0] == '':\n"
     ]
    },
    {
     "data": {
      "image/png": "[encoded data removed]",
      "text/plain": [
       "<Figure size 432x288 with 1 Axes>"
      ]
     },
     "metadata": {
      "needs_background": "light"
     },
     "output_type": "display_data"
    },
    {
     "name": "stdout",
     "output_type": "stream",
     "text": [
      "ECE 0.03647959183673469\n"
     ]
    },
    {
     "data": {
      "image/png": "[encoded data removed]",
      "text/plain": [
       "<Figure size 432x288 with 1 Axes>"
      ]
     },
     "metadata": {
      "needs_background": "light"
     },
     "output_type": "display_data"
    },
    {
     "name": "stdout",
     "output_type": "stream",
     "text": [
      "ECE 0.04196428571428572\n"
     ]
    },
    {
     "data": {
      "text/plain": [
       "(None, None)"
      ]
     },
     "execution_count": 33,
     "metadata": {},
     "output_type": "execute_result"
    }
   ],
   "source": [
    "ECE(inds[idx_train,:], labels[idx_train], bins), ECE(inds[idx_test,:], labels[idx_test], bins)"
   ]
  },
  {
   "cell_type": "code",
   "execution_count": null,
   "metadata": {},
   "outputs": [],
   "source": []
  }
 ],
 "metadata": {
  "kernelspec": {
   "display_name": "Python 3",
   "language": "python",
   "name": "python3"
  },
  "language_info": {
   "codemirror_mode": {
    "name": "ipython",
    "version": 3
   },
   "file_extension": ".py",
   "mimetype": "text/x-python",
   "name": "python",
   "nbconvert_exporter": "python",
   "pygments_lexer": "ipython3",
   "version": "3.6.6"
  }
 },
 "nbformat": 4,
 "nbformat_minor": 2
}
